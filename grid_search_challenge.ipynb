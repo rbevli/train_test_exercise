{
 "cells": [
  {
   "cell_type": "markdown",
   "metadata": {},
   "source": [
    "# Prediction of sales\n",
    "\n",
    "### Problem Statement\n",
    "This dataset represents sales data for 1559 products across 10 stores in different cities. Also, certain attributes of each product and store are available. The aim is to build a predictive model and find out the sales of each product at a particular store.\n",
    "\n",
    "|Variable|Description|\n",
    "|: ------------- |:-------------|\n",
    "|Item_Identifier|Unique product ID|\n",
    "|Item_Weight|Weight of product|\n",
    "|Item_Fat_Content|Whether the product is low fat or not|\n",
    "|Item_Visibility|The % of total display area of all products in a store allocated to the particular product|\n",
    "|Item_Type|The category to which the product belongs|\n",
    "|Item_MRP|Maximum Retail Price (list price) of the product|\n",
    "|Outlet_Identifier|Unique store ID|\n",
    "|Outlet_Establishment_Year|The year in which store was established|\n",
    "|Outlet_Size|The size of the store in terms of ground area covered|\n",
    "|Outlet_Location_Type|The type of city in which the store is located|\n",
    "|Outlet_Type|Whether the outlet is just a grocery store or some sort of supermarket|\n",
    "|Item_Outlet_Sales|Sales of the product in the particulat store. This is the outcome variable to be predicted.|\n",
    "\n",
    "Please note that the data may have missing values as some stores might not report all the data due to technical glitches. Hence, it will be required to treat them accordingly.\n",
    "\n",
    "\n",
    "\n",
    "### Explore the problem in following stages:\n",
    "\n",
    "1. Hypothesis Generation – understanding the problem better by brainstorming possible factors that can impact the outcome\n",
    "2. Data Exploration – looking at categorical and continuous feature summaries and making inferences about the data.\n",
    "3. Data Cleaning – imputing missing values in the data and checking for outliers\n",
    "4. Feature Engineering – modifying existing variables and creating new ones for analysis\n",
    "5. Model Building – making predictive models on the data"
   ]
  },
  {
   "cell_type": "code",
   "execution_count": 47,
   "metadata": {},
   "outputs": [
    {
     "name": "stdout",
     "output_type": "stream",
     "text": [
      "\n",
      "Frequency of Category of Item_Fat_Content\n",
      "Low Fat    5089\n",
      "Regular    2889\n",
      "LF          316\n",
      "reg         117\n",
      "low fat     112\n",
      "Name: Item_Fat_Content, dtype: int64\n",
      "\n",
      "Frequency of Category of Item_Type\n",
      "Fruits and Vegetables    1232\n",
      "Snack Foods              1200\n",
      "Household                 910\n",
      "Frozen Foods              856\n",
      "Dairy                     682\n",
      "Canned                    649\n",
      "Baking Goods              648\n",
      "Health and Hygiene        520\n",
      "Soft Drinks               445\n",
      "Meat                      425\n",
      "Breads                    251\n",
      "Hard Drinks               214\n",
      "Others                    169\n",
      "Starchy Foods             148\n",
      "Breakfast                 110\n",
      "Seafood                    64\n",
      "Name: Item_Type, dtype: int64\n",
      "\n",
      "Frequency of Category of Outlet_Size\n",
      "Medium    2793\n",
      "Small     2388\n",
      "High       932\n",
      "Name: Outlet_Size, dtype: int64\n",
      "\n",
      "Frequency of Category of Outlet_Location_Type\n",
      "Tier 3    3350\n",
      "Tier 2    2785\n",
      "Tier 1    2388\n",
      "Name: Outlet_Location_Type, dtype: int64\n",
      "\n",
      "Frequency of Category of Outlet_Type\n",
      "Supermarket Type1    5577\n",
      "Grocery Store        1083\n",
      "Supermarket Type3     935\n",
      "Supermarket Type2     928\n",
      "Name: Outlet_Type, dtype: int64\n"
     ]
    }
   ],
   "source": [
    "%run data_prep_exercise.ipynb"
   ]
  },
  {
   "cell_type": "code",
   "execution_count": 48,
   "metadata": {},
   "outputs": [
    {
     "name": "stdout",
     "output_type": "stream",
     "text": [
      "\n",
      "Frequency of Category of Item_Fat_Content\n",
      "Low Fat    5089\n",
      "Regular    2889\n",
      "LF          316\n",
      "reg         117\n",
      "low fat     112\n",
      "Name: Item_Fat_Content, dtype: int64\n",
      "\n",
      "Frequency of Category of Item_Type\n",
      "Fruits and Vegetables    1232\n",
      "Snack Foods              1200\n",
      "Household                 910\n",
      "Frozen Foods              856\n",
      "Dairy                     682\n",
      "Canned                    649\n",
      "Baking Goods              648\n",
      "Health and Hygiene        520\n",
      "Soft Drinks               445\n",
      "Meat                      425\n",
      "Breads                    251\n",
      "Hard Drinks               214\n",
      "Others                    169\n",
      "Starchy Foods             148\n",
      "Breakfast                 110\n",
      "Seafood                    64\n",
      "Name: Item_Type, dtype: int64\n",
      "\n",
      "Frequency of Category of Outlet_Size\n",
      "Medium    2793\n",
      "Small     2388\n",
      "High       932\n",
      "Name: Outlet_Size, dtype: int64\n",
      "\n",
      "Frequency of Category of Outlet_Location_Type\n",
      "Tier 3    3350\n",
      "Tier 2    2785\n",
      "Tier 1    2388\n",
      "Name: Outlet_Location_Type, dtype: int64\n",
      "\n",
      "Frequency of Category of Outlet_Type\n",
      "Supermarket Type1    5577\n",
      "Grocery Store        1083\n",
      "Supermarket Type3     935\n",
      "Supermarket Type2     928\n",
      "Name: Outlet_Type, dtype: int64\n",
      "Low Fat    5517\n",
      "Regular    3006\n",
      "Name: Item_Fat_Content, dtype: int64\n"
     ]
    }
   ],
   "source": [
    "%run feature_engineering_exercise.ipynb"
   ]
  },
  {
   "cell_type": "code",
   "execution_count": 49,
   "metadata": {},
   "outputs": [
    {
     "data": {
      "text/plain": [
       "Item_Identifier               object\n",
       "Item_Weight                  float64\n",
       "Item_Fat_Content             float64\n",
       "Item_Visibility              float64\n",
       "Item_Type                     object\n",
       "Item_MRP                     float64\n",
       "Outlet_Identifier              int32\n",
       "Outlet_Establishment_Year      int64\n",
       "Outlet_Size                    int64\n",
       "Outlet_Location_Type           int32\n",
       "Outlet_Type                    int64\n",
       "Item_Outlet_Sales            float64\n",
       "Item_Type_Combined           float64\n",
       "Outlet_Years                   int64\n",
       "Baking Goods                   uint8\n",
       "Breads                         uint8\n",
       "Breakfast                      uint8\n",
       "Canned                         uint8\n",
       "Dairy                          uint8\n",
       "Frozen Foods                   uint8\n",
       "Fruits and Vegetables          uint8\n",
       "Hard Drinks                    uint8\n",
       "Health and Hygiene             uint8\n",
       "Household                      uint8\n",
       "Meat                           uint8\n",
       "Others                         uint8\n",
       "Seafood                        uint8\n",
       "Snack Foods                    uint8\n",
       "Soft Drinks                    uint8\n",
       "Starchy Foods                  uint8\n",
       "dtype: object"
      ]
     },
     "execution_count": 49,
     "metadata": {},
     "output_type": "execute_result"
    }
   ],
   "source": [
    "data.dtypes"
   ]
  },
  {
   "cell_type": "code",
   "execution_count": 94,
   "metadata": {},
   "outputs": [],
   "source": [
    "cat_feats = data.dtypes[data.dtypes == 'object'].index.tolist()\n",
    "data.drop(cat_feats,axis=1,inplace=True)"
   ]
  },
  {
   "cell_type": "code",
   "execution_count": 95,
   "metadata": {},
   "outputs": [
    {
     "data": {
      "text/plain": [
       "Item_Weight                  0\n",
       "Item_Fat_Content             0\n",
       "Item_Visibility              0\n",
       "Item_MRP                     0\n",
       "Outlet_Identifier            0\n",
       "Outlet_Establishment_Year    0\n",
       "Outlet_Size                  0\n",
       "Outlet_Location_Type         0\n",
       "Outlet_Type                  0\n",
       "Item_Outlet_Sales            0\n",
       "Item_Type_Combined           0\n",
       "Outlet_Years                 0\n",
       "Baking Goods                 0\n",
       "Breads                       0\n",
       "Breakfast                    0\n",
       "Canned                       0\n",
       "Dairy                        0\n",
       "Frozen Foods                 0\n",
       "Fruits and Vegetables        0\n",
       "Hard Drinks                  0\n",
       "Health and Hygiene           0\n",
       "Household                    0\n",
       "Meat                         0\n",
       "Others                       0\n",
       "Seafood                      0\n",
       "Snack Foods                  0\n",
       "Soft Drinks                  0\n",
       "Starchy Foods                0\n",
       "dtype: int64"
      ]
     },
     "execution_count": 95,
     "metadata": {},
     "output_type": "execute_result"
    }
   ],
   "source": [
    "data.isna().sum()"
   ]
  },
  {
   "cell_type": "code",
   "execution_count": 65,
   "metadata": {},
   "outputs": [],
   "source": [
    "data['Item_Fat_Content'].fillna(data['Item_Fat_Content'].mode()[0], inplace = True)\n",
    "data['Item_Type_Combined'].fillna(data['Item_Type_Combined'].mode()[0], inplace = True)"
   ]
  },
  {
   "cell_type": "code",
   "execution_count": 66,
   "metadata": {},
   "outputs": [
    {
     "data": {
      "text/plain": [
       "Item_Weight                  0\n",
       "Item_Fat_Content             0\n",
       "Item_Visibility              0\n",
       "Item_MRP                     0\n",
       "Outlet_Identifier            0\n",
       "Outlet_Establishment_Year    0\n",
       "Outlet_Size                  0\n",
       "Outlet_Location_Type         0\n",
       "Outlet_Type                  0\n",
       "Item_Outlet_Sales            0\n",
       "Item_Type_Combined           0\n",
       "Outlet_Years                 0\n",
       "Baking Goods                 0\n",
       "Breads                       0\n",
       "Breakfast                    0\n",
       "Canned                       0\n",
       "Dairy                        0\n",
       "Frozen Foods                 0\n",
       "Fruits and Vegetables        0\n",
       "Hard Drinks                  0\n",
       "Health and Hygiene           0\n",
       "Household                    0\n",
       "Meat                         0\n",
       "Others                       0\n",
       "Seafood                      0\n",
       "Snack Foods                  0\n",
       "Soft Drinks                  0\n",
       "Starchy Foods                0\n",
       "dtype: int64"
      ]
     },
     "execution_count": 66,
     "metadata": {},
     "output_type": "execute_result"
    }
   ],
   "source": [
    "data.isna().sum()"
   ]
  },
  {
   "cell_type": "markdown",
   "metadata": {},
   "source": [
    "We have covered data preparation and feature engineering two weeks ago. Now, it's time to do some predictive models."
   ]
  },
  {
   "cell_type": "markdown",
   "metadata": {},
   "source": [
    "## Model Building\n",
    "\n",
    "## Task\n",
    "Make a baseline model. Baseline models help us set a benchmark to gauge the performance of our future models. If your new model is below the baseline, something has gone wrong, and you should check your data.\n",
    "\n",
    "To make a baseline model, run a simple regression model without altering the default parameters in sklearn. "
   ]
  },
  {
   "cell_type": "code",
   "execution_count": 51,
   "metadata": {},
   "outputs": [],
   "source": [
    "from sklearn.linear_model import LinearRegression"
   ]
  },
  {
   "cell_type": "code",
   "execution_count": 52,
   "metadata": {},
   "outputs": [],
   "source": [
    "y = data.Item_Outlet_Sales\n"
   ]
  },
  {
   "cell_type": "code",
   "execution_count": 74,
   "metadata": {},
   "outputs": [
    {
     "name": "stdout",
     "output_type": "stream",
     "text": [
      "      Item_Weight  Item_Fat_Content  Item_Visibility  Item_MRP  \\\n",
      "7377    12.600000               0.0         0.096194  210.8612   \n",
      "3078    12.600000               1.0         0.031599  172.9764   \n",
      "6505    12.987880               0.0         0.052555  190.3504   \n",
      "4686    17.350000               0.0         0.056032  102.3016   \n",
      "3093    11.300000               0.0         0.000000  245.2118   \n",
      "...           ...               ...              ...       ...   \n",
      "7192     8.260000               0.0         0.034544  116.0834   \n",
      "4848     8.710000               1.0         0.072155  183.3924   \n",
      "3912    12.850000               0.0         0.030790  254.9040   \n",
      "3768    13.224769               1.0         0.129669  206.8638   \n",
      "5139    12.277108               0.0         0.110736   35.2874   \n",
      "\n",
      "      Outlet_Identifier  Outlet_Establishment_Year  Outlet_Size  \\\n",
      "7377                 35                       2004            0   \n",
      "3078                 45                       2002            1   \n",
      "6505                 27                       1985            1   \n",
      "4686                 45                       2002            1   \n",
      "3093                 45                       2002            1   \n",
      "...                 ...                        ...          ...   \n",
      "7192                 18                       2009            1   \n",
      "4848                 46                       1997            0   \n",
      "3912                 17                       2007            1   \n",
      "3768                 19                       1985            0   \n",
      "5139                 27                       1985            1   \n",
      "\n",
      "      Outlet_Location_Type  Outlet_Type  Item_Type_Combined  ...  \\\n",
      "7377                     2            1                 2.0  ...   \n",
      "3078                     2            1                 2.0  ...   \n",
      "6505                     3            3                 2.0  ...   \n",
      "4686                     2            1                 2.0  ...   \n",
      "3093                     2            1                 2.0  ...   \n",
      "...                    ...          ...                 ...  ...   \n",
      "7192                     3            2                 1.0  ...   \n",
      "4848                     1            1                 2.0  ...   \n",
      "3912                     2            1                 2.0  ...   \n",
      "3768                     1            0                 2.0  ...   \n",
      "5139                     3            3                 2.0  ...   \n",
      "\n",
      "      Fruits and Vegetables  Hard Drinks  Health and Hygiene  Household  Meat  \\\n",
      "7377                      0            0                   0          0     0   \n",
      "3078                      0            0                   0          0     0   \n",
      "6505                      0            0                   0          0     0   \n",
      "4686                      0            0                   0          0     0   \n",
      "3093                      0            0                   0          0     0   \n",
      "...                     ...          ...                 ...        ...   ...   \n",
      "7192                      0            1                   0          0     0   \n",
      "4848                      0            0                   0          0     0   \n",
      "3912                      0            0                   0          0     0   \n",
      "3768                      1            0                   0          0     0   \n",
      "5139                      0            0                   0          0     0   \n",
      "\n",
      "      Others  Seafood  Snack Foods  Soft Drinks  Starchy Foods  \n",
      "7377       0        0            1            0              0  \n",
      "3078       0        0            0            0              0  \n",
      "6505       0        0            1            0              0  \n",
      "4686       0        0            0            0              0  \n",
      "3093       0        0            0            0              0  \n",
      "...      ...      ...          ...          ...            ...  \n",
      "7192       0        0            0            0              0  \n",
      "4848       0        0            0            0              0  \n",
      "3912       0        0            0            0              1  \n",
      "3768       0        0            0            0              0  \n",
      "5139       0        0            0            0              0  \n",
      "\n",
      "[8523 rows x 27 columns]\n",
      "5752    8479.6288\n",
      "257      193.0820\n",
      "550      780.9834\n",
      "588     3205.1612\n",
      "4201    2277.7018\n",
      "          ...    \n",
      "1898    3002.0922\n",
      "1538    1330.2684\n",
      "13      2145.2076\n",
      "2804    2316.9840\n",
      "2018     181.0976\n",
      "Name: Item_Outlet_Sales, Length: 8523, dtype: float64\n"
     ]
    }
   ],
   "source": [
    "from sklearn.utils import shuffle\n",
    "df = data.loc[ : , data.columns != 'Item_Outlet_Sales']\n",
    "X, y = df, y\n",
    "X, y = shuffle(X, y, random_state=27)\n",
    "print (X)\n",
    "print (y)"
   ]
  },
  {
   "cell_type": "code",
   "execution_count": 84,
   "metadata": {},
   "outputs": [
    {
     "data": {
      "text/plain": [
       "LinearRegression()"
      ]
     },
     "execution_count": 84,
     "metadata": {},
     "output_type": "execute_result"
    }
   ],
   "source": [
    "#linear regression\n",
    "# creating linear regression\n",
    "reg = LinearRegression()\n",
    "reg.fit(X,y)"
   ]
  },
  {
   "cell_type": "code",
   "execution_count": 85,
   "metadata": {},
   "outputs": [
    {
     "name": "stdout",
     "output_type": "stream",
     "text": [
      "[ 4.08264822e+00 -3.95428497e+01  6.61770158e+01  1.59100469e-01\n",
      " -1.90603085e+00 -8.04844844e+11  5.42651972e+01  4.04793649e+00\n",
      " -1.89879976e+01  6.66247610e+01 -8.04844844e+11  2.26054349e+10\n",
      "  2.26054349e+10  2.26054347e+10  2.26054349e+10  2.26054348e+10\n",
      "  2.26054347e+10  2.26054349e+10  2.26054350e+10  2.26054349e+10\n",
      "  2.26054349e+10  2.26054348e+10  2.26054349e+10  2.26054346e+10\n",
      "  2.26054348e+10  2.26054349e+10  2.26054347e+10]\n"
     ]
    }
   ],
   "source": [
    "print (reg.coef_)"
   ]
  },
  {
   "cell_type": "code",
   "execution_count": 86,
   "metadata": {},
   "outputs": [
    {
     "data": {
      "text/plain": [
       "0.002930968171742432"
      ]
     },
     "execution_count": 86,
     "metadata": {},
     "output_type": "execute_result"
    }
   ],
   "source": [
    "reg.score(X,y) #R^2"
   ]
  },
  {
   "cell_type": "markdown",
   "metadata": {},
   "source": [
    "## Task\n",
    "Split your data in 80% train set and 20% test set."
   ]
  },
  {
   "cell_type": "code",
   "execution_count": 80,
   "metadata": {},
   "outputs": [
    {
     "name": "stdout",
     "output_type": "stream",
     "text": [
      "6818 training samples and 1705 test samples\n"
     ]
    }
   ],
   "source": [
    "import sklearn.model_selection as model_selection\n",
    "X_train,X_test, y_train, y_test = model_selection.train_test_split(X, y\\\n",
    "                                                                   ,train_size=0.80,test_size=0.20,random_state=42)\n",
    "print(f'{len(X_train)} training samples and {len(X_test)} test samples')"
   ]
  },
  {
   "cell_type": "code",
   "execution_count": null,
   "metadata": {},
   "outputs": [],
   "source": []
  },
  {
   "cell_type": "code",
   "execution_count": null,
   "metadata": {},
   "outputs": [],
   "source": []
  },
  {
   "cell_type": "markdown",
   "metadata": {},
   "source": [
    "## Task\n",
    "Use grid_search to find the best value of the parameter `alpha` for Ridge and Lasso regressions from `sklearn`."
   ]
  },
  {
   "cell_type": "code",
   "execution_count": 96,
   "metadata": {},
   "outputs": [
    {
     "name": "stdout",
     "output_type": "stream",
     "text": [
      "The folds are of type <class 'list'> and contain 1705, 1705, 1705, 1704, 1704 data points\n"
     ]
    }
   ],
   "source": [
    "# Make the folds\n",
    "k_folds = 5\n",
    "\n",
    "X_folds, y_folds = np.array_split(X, k_folds), np.array_split(y, k_folds)\n",
    "\n",
    "fold_sizes = ', '.join([str(len(f)) for f in X_folds])\n",
    "print(f'The folds are of type {type(X_folds)} and contain {fold_sizes} data points')\n",
    "\n",
    "# List that will accumulate test performance on each fold\n",
    "cv_r2 = []\n",
    "\n",
    "for i in range(k_folds):\n",
    "    # Make the train/test set for this fold\n",
    "    X_test = X_folds[i]\n",
    "    y_test = y_folds[i]\n",
    "    X_train = [X_folds[j] for j in range(k_folds) if j != i]\n",
    "    y_train = [y_folds[j] for j in range(k_folds) if j != i]\n",
    "    X_train = np.concatenate(X_train)\n",
    "    y_train = np.concatenate(y_train)"
   ]
  },
  {
   "cell_type": "code",
   "execution_count": 97,
   "metadata": {},
   "outputs": [
    {
     "name": "stdout",
     "output_type": "stream",
     "text": [
      "[-0.005001250469073737, -0.007326294565279889, -0.004798950023951809, -0.0020255984930457327, 0.00012593928602278037]\n"
     ]
    }
   ],
   "source": [
    "# List that will accumulate test performance on each fold\n",
    "cv_r2 = []\n",
    "from sklearn.metrics import r2_score\n",
    "\n",
    "for i in range(k_folds):\n",
    "    # Make the train/test set for this fold\n",
    "    X_test = X_folds[i]\n",
    "    y_test = y_folds[i]\n",
    "    X_train = [X_folds[j] for j in range(k_folds) if j != i]\n",
    "    y_train = [y_folds[j] for j in range(k_folds) if j != i]\n",
    "    X_train = np.concatenate(X_train)\n",
    "    y_train = np.concatenate(y_train)\n",
    "\n",
    "    # Train the model\n",
    "    reg.fit(X_train, y_train)\n",
    "\n",
    "    # Evaluate the model on the test set\n",
    "    y_pred = reg.predict(X_test)\n",
    "    r2 = r2_score(y_test, y_pred)\n",
    "\n",
    "    cv_r2.append(r2)\n",
    "\n",
    "print(cv_r2)"
   ]
  },
  {
   "cell_type": "code",
   "execution_count": 98,
   "metadata": {},
   "outputs": [
    {
     "name": "stdout",
     "output_type": "stream",
     "text": [
      "Cross-validated R^2\n",
      "Mean:\t-0.0038052308530656777\n",
      "Std.:\t0.002586001561377152\n"
     ]
    }
   ],
   "source": [
    "from sklearn.model_selection import cross_val_score\n",
    "\n",
    "cv_r2 = cross_val_score(lr, X, y, cv=k_folds, scoring='r2')\n",
    "print(f'Cross-validated R^2\\nMean:\\t{cv_r2.mean()}\\nStd.:\\t{cv_r2.std()}')"
   ]
  },
  {
   "cell_type": "code",
   "execution_count": 99,
   "metadata": {},
   "outputs": [],
   "source": [
    "from sklearn.linear_model import ElasticNet\n",
    "#model with 2 hyperparameters\n",
    "#combination of lasso and ridge regression penalties\n",
    "\n",
    "from sklearn.preprocessing import StandardScaler\n",
    "\n",
    "# Scale features since weight magnitudes will effect regularization weight penalties\n",
    "X_scaled = StandardScaler().fit_transform(X)\n",
    "\n",
    "# Hyperparameter settings we want to try\n",
    "alphas = [0.001, 0.01, 0.1, 1] #lambda (controls effect of penalty)\n",
    "l1_ratios = [0, 0.25, 0.5, 0.75, 1] #lasso vs ridge penalty (0=ridge, 1=lasso)\n",
    "\n",
    "# Keep track of the best hyperparameters found so far\n",
    "best_r2 = -np.inf\n",
    "best_alpha = None\n",
    "best_l1_ratio = None"
   ]
  },
  {
   "cell_type": "code",
   "execution_count": 91,
   "metadata": {},
   "outputs": [
    {
     "name": "stderr",
     "output_type": "stream",
     "text": [
      "C:\\Users\\bevli\\anaconda3\\lib\\site-packages\\sklearn\\linear_model\\_coordinate_descent.py:530: ConvergenceWarning: Objective did not converge. You might want to increase the number of iterations. Duality gap: 9773072750.086971, tolerance: 1962403.9313563127\n",
      "  model = cd_fast.enet_coordinate_descent(\n",
      "C:\\Users\\bevli\\anaconda3\\lib\\site-packages\\sklearn\\linear_model\\_coordinate_descent.py:530: ConvergenceWarning: Objective did not converge. You might want to increase the number of iterations. Duality gap: 9826203632.714767, tolerance: 1973460.9696147912\n",
      "  model = cd_fast.enet_coordinate_descent(\n",
      "C:\\Users\\bevli\\anaconda3\\lib\\site-packages\\sklearn\\linear_model\\_coordinate_descent.py:530: ConvergenceWarning: Objective did not converge. You might want to increase the number of iterations. Duality gap: 10037200811.84773, tolerance: 2015609.9057442895\n",
      "  model = cd_fast.enet_coordinate_descent(\n",
      "C:\\Users\\bevli\\anaconda3\\lib\\site-packages\\sklearn\\linear_model\\_coordinate_descent.py:530: ConvergenceWarning: Objective did not converge. You might want to increase the number of iterations. Duality gap: 9874052354.820593, tolerance: 1980627.890654449\n",
      "  model = cd_fast.enet_coordinate_descent(\n",
      "C:\\Users\\bevli\\anaconda3\\lib\\site-packages\\sklearn\\linear_model\\_coordinate_descent.py:530: ConvergenceWarning: Objective did not converge. You might want to increase the number of iterations. Duality gap: 9943024310.347347, tolerance: 1994658.1742659402\n",
      "  model = cd_fast.enet_coordinate_descent(\n",
      "C:\\Users\\bevli\\anaconda3\\lib\\site-packages\\sklearn\\linear_model\\_coordinate_descent.py:530: ConvergenceWarning: Objective did not converge. You might want to increase the number of iterations. Duality gap: 6711415475.320517, tolerance: 1962403.9313563127\n",
      "  model = cd_fast.enet_coordinate_descent(\n",
      "C:\\Users\\bevli\\anaconda3\\lib\\site-packages\\sklearn\\linear_model\\_coordinate_descent.py:530: ConvergenceWarning: Objective did not converge. You might want to increase the number of iterations. Duality gap: 8596622152.040941, tolerance: 1973460.9696147912\n",
      "  model = cd_fast.enet_coordinate_descent(\n",
      "C:\\Users\\bevli\\anaconda3\\lib\\site-packages\\sklearn\\linear_model\\_coordinate_descent.py:530: ConvergenceWarning: Objective did not converge. You might want to increase the number of iterations. Duality gap: 7644741412.325339, tolerance: 2015609.9057442895\n",
      "  model = cd_fast.enet_coordinate_descent(\n",
      "C:\\Users\\bevli\\anaconda3\\lib\\site-packages\\sklearn\\linear_model\\_coordinate_descent.py:530: ConvergenceWarning: Objective did not converge. You might want to increase the number of iterations. Duality gap: 8220427128.645342, tolerance: 1980627.890654449\n",
      "  model = cd_fast.enet_coordinate_descent(\n",
      "C:\\Users\\bevli\\anaconda3\\lib\\site-packages\\sklearn\\linear_model\\_coordinate_descent.py:530: ConvergenceWarning: Objective did not converge. You might want to increase the number of iterations. Duality gap: 8789467609.883251, tolerance: 1994658.1742659402\n",
      "  model = cd_fast.enet_coordinate_descent(\n",
      "C:\\Users\\bevli\\anaconda3\\lib\\site-packages\\sklearn\\linear_model\\_coordinate_descent.py:530: ConvergenceWarning: Objective did not converge. You might want to increase the number of iterations. Duality gap: 4513354315.512459, tolerance: 1962403.9313563127\n",
      "  model = cd_fast.enet_coordinate_descent(\n",
      "C:\\Users\\bevli\\anaconda3\\lib\\site-packages\\sklearn\\linear_model\\_coordinate_descent.py:530: ConvergenceWarning: Objective did not converge. You might want to increase the number of iterations. Duality gap: 7538732927.010778, tolerance: 1973460.9696147912\n",
      "  model = cd_fast.enet_coordinate_descent(\n",
      "C:\\Users\\bevli\\anaconda3\\lib\\site-packages\\sklearn\\linear_model\\_coordinate_descent.py:530: ConvergenceWarning: Objective did not converge. You might want to increase the number of iterations. Duality gap: 5524353176.798442, tolerance: 2015609.9057442895\n",
      "  model = cd_fast.enet_coordinate_descent(\n",
      "C:\\Users\\bevli\\anaconda3\\lib\\site-packages\\sklearn\\linear_model\\_coordinate_descent.py:530: ConvergenceWarning: Objective did not converge. You might want to increase the number of iterations. Duality gap: 6775898679.900052, tolerance: 1980627.890654449\n",
      "  model = cd_fast.enet_coordinate_descent(\n",
      "C:\\Users\\bevli\\anaconda3\\lib\\site-packages\\sklearn\\linear_model\\_coordinate_descent.py:530: ConvergenceWarning: Objective did not converge. You might want to increase the number of iterations. Duality gap: 7797216917.7982025, tolerance: 1994658.1742659402\n",
      "  model = cd_fast.enet_coordinate_descent(\n",
      "C:\\Users\\bevli\\anaconda3\\lib\\site-packages\\sklearn\\linear_model\\_coordinate_descent.py:530: ConvergenceWarning: Objective did not converge. You might want to increase the number of iterations. Duality gap: 2832248079.432316, tolerance: 1962403.9313563127\n",
      "  model = cd_fast.enet_coordinate_descent(\n",
      "C:\\Users\\bevli\\anaconda3\\lib\\site-packages\\sklearn\\linear_model\\_coordinate_descent.py:530: ConvergenceWarning: Objective did not converge. You might want to increase the number of iterations. Duality gap: 5512072613.34528, tolerance: 1973460.9696147912\n",
      "  model = cd_fast.enet_coordinate_descent(\n",
      "C:\\Users\\bevli\\anaconda3\\lib\\site-packages\\sklearn\\linear_model\\_coordinate_descent.py:530: ConvergenceWarning: Objective did not converge. You might want to increase the number of iterations. Duality gap: 1652313850.6515179, tolerance: 2015609.9057442895\n",
      "  model = cd_fast.enet_coordinate_descent(\n",
      "C:\\Users\\bevli\\anaconda3\\lib\\site-packages\\sklearn\\linear_model\\_coordinate_descent.py:530: ConvergenceWarning: Objective did not converge. You might want to increase the number of iterations. Duality gap: 4004381223.4875107, tolerance: 1980627.890654449\n",
      "  model = cd_fast.enet_coordinate_descent(\n",
      "C:\\Users\\bevli\\anaconda3\\lib\\site-packages\\sklearn\\linear_model\\_coordinate_descent.py:530: ConvergenceWarning: Objective did not converge. You might want to increase the number of iterations. Duality gap: 5896903837.753431, tolerance: 1994658.1742659402\n",
      "  model = cd_fast.enet_coordinate_descent(\n",
      "C:\\Users\\bevli\\anaconda3\\lib\\site-packages\\sklearn\\linear_model\\_coordinate_descent.py:530: ConvergenceWarning: Objective did not converge. You might want to increase the number of iterations. Duality gap: 593916828.2475471, tolerance: 1962403.9313563127\n",
      "  model = cd_fast.enet_coordinate_descent(\n",
      "C:\\Users\\bevli\\anaconda3\\lib\\site-packages\\sklearn\\linear_model\\_coordinate_descent.py:530: ConvergenceWarning: Objective did not converge. You might want to increase the number of iterations. Duality gap: 339097506.7550926, tolerance: 1973460.9696147912\n",
      "  model = cd_fast.enet_coordinate_descent(\n",
      "C:\\Users\\bevli\\anaconda3\\lib\\site-packages\\sklearn\\linear_model\\_coordinate_descent.py:530: ConvergenceWarning: Objective did not converge. You might want to increase the number of iterations. Duality gap: 32948614.65593338, tolerance: 2015609.9057442895\n",
      "  model = cd_fast.enet_coordinate_descent(\n",
      "C:\\Users\\bevli\\anaconda3\\lib\\site-packages\\sklearn\\linear_model\\_coordinate_descent.py:530: ConvergenceWarning: Objective did not converge. You might want to increase the number of iterations. Duality gap: 593577604.589365, tolerance: 1980627.890654449\n",
      "  model = cd_fast.enet_coordinate_descent(\n",
      "C:\\Users\\bevli\\anaconda3\\lib\\site-packages\\sklearn\\linear_model\\_coordinate_descent.py:530: ConvergenceWarning: Objective did not converge. You might want to increase the number of iterations. Duality gap: 80114687.94528198, tolerance: 1994658.1742659402\n",
      "  model = cd_fast.enet_coordinate_descent(\n",
      "C:\\Users\\bevli\\anaconda3\\lib\\site-packages\\sklearn\\linear_model\\_coordinate_descent.py:530: ConvergenceWarning: Objective did not converge. You might want to increase the number of iterations. Duality gap: 9773375524.525312, tolerance: 1962403.9313563127\n",
      "  model = cd_fast.enet_coordinate_descent(\n",
      "C:\\Users\\bevli\\anaconda3\\lib\\site-packages\\sklearn\\linear_model\\_coordinate_descent.py:530: ConvergenceWarning: Objective did not converge. You might want to increase the number of iterations. Duality gap: 9826551382.216578, tolerance: 1973460.9696147912\n",
      "  model = cd_fast.enet_coordinate_descent(\n",
      "C:\\Users\\bevli\\anaconda3\\lib\\site-packages\\sklearn\\linear_model\\_coordinate_descent.py:530: ConvergenceWarning: Objective did not converge. You might want to increase the number of iterations. Duality gap: 10037557634.883064, tolerance: 2015609.9057442895\n",
      "  model = cd_fast.enet_coordinate_descent(\n"
     ]
    },
    {
     "name": "stderr",
     "output_type": "stream",
     "text": [
      "C:\\Users\\bevli\\anaconda3\\lib\\site-packages\\sklearn\\linear_model\\_coordinate_descent.py:530: ConvergenceWarning: Objective did not converge. You might want to increase the number of iterations. Duality gap: 9874463076.033106, tolerance: 1980627.890654449\n",
      "  model = cd_fast.enet_coordinate_descent(\n",
      "C:\\Users\\bevli\\anaconda3\\lib\\site-packages\\sklearn\\linear_model\\_coordinate_descent.py:530: ConvergenceWarning: Objective did not converge. You might want to increase the number of iterations. Duality gap: 9943263444.446968, tolerance: 1994658.1742659402\n",
      "  model = cd_fast.enet_coordinate_descent(\n",
      "C:\\Users\\bevli\\anaconda3\\lib\\site-packages\\sklearn\\linear_model\\_coordinate_descent.py:530: ConvergenceWarning: Objective did not converge. You might want to increase the number of iterations. Duality gap: 95620672.49681473, tolerance: 1962403.9313563127\n",
      "  model = cd_fast.enet_coordinate_descent(\n",
      "C:\\Users\\bevli\\anaconda3\\lib\\site-packages\\sklearn\\linear_model\\_coordinate_descent.py:530: ConvergenceWarning: Objective did not converge. You might want to increase the number of iterations. Duality gap: 339103079.045578, tolerance: 1973460.9696147912\n",
      "  model = cd_fast.enet_coordinate_descent(\n",
      "C:\\Users\\bevli\\anaconda3\\lib\\site-packages\\sklearn\\linear_model\\_coordinate_descent.py:530: ConvergenceWarning: Objective did not converge. You might want to increase the number of iterations. Duality gap: 32950278.883098602, tolerance: 2015609.9057442895\n",
      "  model = cd_fast.enet_coordinate_descent(\n",
      "C:\\Users\\bevli\\anaconda3\\lib\\site-packages\\sklearn\\linear_model\\_coordinate_descent.py:530: ConvergenceWarning: Objective did not converge. You might want to increase the number of iterations. Duality gap: 80116972.29009628, tolerance: 1994658.1742659402\n",
      "  model = cd_fast.enet_coordinate_descent(\n",
      "C:\\Users\\bevli\\anaconda3\\lib\\site-packages\\sklearn\\linear_model\\_coordinate_descent.py:530: ConvergenceWarning: Objective did not converge. You might want to increase the number of iterations. Duality gap: 9776118157.927599, tolerance: 1962403.9313563127\n",
      "  model = cd_fast.enet_coordinate_descent(\n",
      "C:\\Users\\bevli\\anaconda3\\lib\\site-packages\\sklearn\\linear_model\\_coordinate_descent.py:530: ConvergenceWarning: Objective did not converge. You might want to increase the number of iterations. Duality gap: 9829455908.83186, tolerance: 1973460.9696147912\n",
      "  model = cd_fast.enet_coordinate_descent(\n",
      "C:\\Users\\bevli\\anaconda3\\lib\\site-packages\\sklearn\\linear_model\\_coordinate_descent.py:530: ConvergenceWarning: Objective did not converge. You might want to increase the number of iterations. Duality gap: 10040612069.642359, tolerance: 2015609.9057442895\n",
      "  model = cd_fast.enet_coordinate_descent(\n",
      "C:\\Users\\bevli\\anaconda3\\lib\\site-packages\\sklearn\\linear_model\\_coordinate_descent.py:530: ConvergenceWarning: Objective did not converge. You might want to increase the number of iterations. Duality gap: 9877322145.886148, tolerance: 1980627.890654449\n",
      "  model = cd_fast.enet_coordinate_descent(\n",
      "C:\\Users\\bevli\\anaconda3\\lib\\site-packages\\sklearn\\linear_model\\_coordinate_descent.py:530: ConvergenceWarning: Objective did not converge. You might want to increase the number of iterations. Duality gap: 9945405089.11493, tolerance: 1994658.1742659402\n",
      "  model = cd_fast.enet_coordinate_descent(\n",
      "C:\\Users\\bevli\\anaconda3\\lib\\site-packages\\sklearn\\linear_model\\_coordinate_descent.py:530: ConvergenceWarning: Objective did not converge. You might want to increase the number of iterations. Duality gap: 9790725638.112064, tolerance: 1962403.9313563127\n",
      "  model = cd_fast.enet_coordinate_descent(\n",
      "C:\\Users\\bevli\\anaconda3\\lib\\site-packages\\sklearn\\linear_model\\_coordinate_descent.py:530: ConvergenceWarning: Objective did not converge. You might want to increase the number of iterations. Duality gap: 9844147339.088747, tolerance: 1973460.9696147912\n",
      "  model = cd_fast.enet_coordinate_descent(\n",
      "C:\\Users\\bevli\\anaconda3\\lib\\site-packages\\sklearn\\linear_model\\_coordinate_descent.py:530: ConvergenceWarning: Objective did not converge. You might want to increase the number of iterations. Duality gap: 10055706983.145956, tolerance: 2015609.9057442895\n",
      "  model = cd_fast.enet_coordinate_descent(\n",
      "C:\\Users\\bevli\\anaconda3\\lib\\site-packages\\sklearn\\linear_model\\_coordinate_descent.py:530: ConvergenceWarning: Objective did not converge. You might want to increase the number of iterations. Duality gap: 9888393312.151417, tolerance: 1980627.890654449\n",
      "  model = cd_fast.enet_coordinate_descent(\n"
     ]
    },
    {
     "name": "stdout",
     "output_type": "stream",
     "text": [
      "The best hyperparameter settings achieve a cross-validated R^2 of: -0.0009523110631030285\n",
      "Alpha:\t1\n",
      "L1 ratio:\t0\n"
     ]
    },
    {
     "name": "stderr",
     "output_type": "stream",
     "text": [
      "C:\\Users\\bevli\\anaconda3\\lib\\site-packages\\sklearn\\linear_model\\_coordinate_descent.py:530: ConvergenceWarning: Objective did not converge. You might want to increase the number of iterations. Duality gap: 9956611310.670233, tolerance: 1994658.1742659402\n",
      "  model = cd_fast.enet_coordinate_descent(\n"
     ]
    }
   ],
   "source": [
    "for alpha in alphas:\n",
    "    for l1_ratio in l1_ratios:\n",
    "        model = ElasticNet(alpha=alpha, l1_ratio=l1_ratio, random_state=27)\n",
    "        cv_r2 = cross_val_score(model, X_scaled, y, cv=k_folds, scoring='r2')\n",
    "        if cv_r2.mean() > best_r2:\n",
    "            best_r2 = cv_r2.mean()\n",
    "            best_alpha = alpha\n",
    "            best_l1_ratio = l1_ratio\n",
    "\n",
    "print(f'The best hyperparameter settings achieve a cross-validated R^2 of: {best_r2}\\nAlpha:\\t{best_alpha}\\nL1 ratio:\\t{best_l1_ratio}')"
   ]
  },
  {
   "cell_type": "markdown",
   "metadata": {},
   "source": [
    "## Task\n",
    "Using the model from grid_search, predict the values in the test set and compare against your benchmark."
   ]
  },
  {
   "cell_type": "code",
   "execution_count": null,
   "metadata": {},
   "outputs": [],
   "source": []
  },
  {
   "cell_type": "code",
   "execution_count": null,
   "metadata": {},
   "outputs": [],
   "source": []
  },
  {
   "cell_type": "code",
   "execution_count": null,
   "metadata": {},
   "outputs": [],
   "source": []
  }
 ],
 "metadata": {
  "anaconda-cloud": {},
  "kernelspec": {
   "display_name": "Python 3 (ipykernel)",
   "language": "python",
   "name": "python3"
  },
  "language_info": {
   "codemirror_mode": {
    "name": "ipython",
    "version": 3
   },
   "file_extension": ".py",
   "mimetype": "text/x-python",
   "name": "python",
   "nbconvert_exporter": "python",
   "pygments_lexer": "ipython3",
   "version": "3.9.7"
  }
 },
 "nbformat": 4,
 "nbformat_minor": 4
}
