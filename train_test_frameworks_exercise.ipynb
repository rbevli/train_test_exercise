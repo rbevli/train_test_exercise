{
 "cells": [
  {
   "cell_type": "markdown",
   "metadata": {},
   "source": [
    "## Train Test Frameworks\n",
    "\n",
    "The following exercise is to practice the syntax of the various functions from sklearn that split data into train and test sets. The goal of this exercise is to get familiar with these different splitting methods before engaging with the more complex activities at the end of the day. "
   ]
  },
  {
   "cell_type": "code",
   "execution_count": 5,
   "metadata": {
    "ExecuteTime": {
     "end_time": "2020-04-27T07:17:19.733929Z",
     "start_time": "2020-04-27T07:17:19.730983Z"
    }
   },
   "outputs": [],
   "source": [
    "# import numpy\n",
    "import numpy as np"
   ]
  },
  {
   "cell_type": "code",
   "execution_count": 6,
   "metadata": {
    "ExecuteTime": {
     "end_time": "2020-04-27T07:17:20.442277Z",
     "start_time": "2020-04-27T07:17:20.436036Z"
    }
   },
   "outputs": [],
   "source": [
    "X = np.random.normal(0,1,20).reshape(10,2)\n",
    "y = np.random.normal(0,1,10)"
   ]
  },
  {
   "cell_type": "markdown",
   "metadata": {},
   "source": [
    "* print X"
   ]
  },
  {
   "cell_type": "code",
   "execution_count": 7,
   "metadata": {
    "ExecuteTime": {
     "end_time": "2020-02-25T10:10:05.516072Z",
     "start_time": "2020-02-25T10:10:05.507842Z"
    }
   },
   "outputs": [
    {
     "data": {
      "text/plain": [
       "array([[ 0.61594129,  0.20814653],\n",
       "       [-1.82225102,  3.21875021],\n",
       "       [-1.30852912, -0.41421579],\n",
       "       [ 0.77583338,  1.04840652],\n",
       "       [-0.17445042, -0.1465972 ],\n",
       "       [ 0.13338471,  1.62367421],\n",
       "       [-1.31107997,  0.44853538],\n",
       "       [ 1.24800427,  1.1653144 ],\n",
       "       [-0.54006541, -1.47674313],\n",
       "       [-0.19586302, -0.49258206]])"
      ]
     },
     "execution_count": 7,
     "metadata": {},
     "output_type": "execute_result"
    }
   ],
   "source": [
    "X"
   ]
  },
  {
   "cell_type": "markdown",
   "metadata": {},
   "source": [
    "* print y"
   ]
  },
  {
   "cell_type": "code",
   "execution_count": 8,
   "metadata": {
    "ExecuteTime": {
     "end_time": "2020-02-25T10:10:06.238921Z",
     "start_time": "2020-02-25T10:10:06.228202Z"
    }
   },
   "outputs": [
    {
     "data": {
      "text/plain": [
       "array([-0.75878753,  1.09754766,  0.02728743, -0.38286957, -2.19084662,\n",
       "       -0.22063   , -1.51669178, -1.77152559,  1.29190778, -0.38053274])"
      ]
     },
     "execution_count": 8,
     "metadata": {},
     "output_type": "execute_result"
    }
   ],
   "source": [
    "y"
   ]
  },
  {
   "cell_type": "markdown",
   "metadata": {},
   "source": [
    "_____________________________\n",
    "### Holdout split"
   ]
  },
  {
   "cell_type": "markdown",
   "metadata": {},
   "source": [
    "* import the **train_test_split** function from sklearn"
   ]
  },
  {
   "cell_type": "code",
   "execution_count": 9,
   "metadata": {
    "ExecuteTime": {
     "end_time": "2020-04-27T07:19:36.229754Z",
     "start_time": "2020-04-27T07:19:36.224380Z"
    }
   },
   "outputs": [],
   "source": [
    "import sklearn.model_selection as model_selection\n",
    "X_train,X_test, y_train, y_test = model_selection.train_test_split(X, y\\\n",
    "                                                                   ,train_size=0.70,test_size=0.30,random_state=42)"
   ]
  },
  {
   "cell_type": "markdown",
   "metadata": {},
   "source": [
    "* split the data to train set and test set, use a 70:30 ratio or a 80:20 ratio."
   ]
  },
  {
   "cell_type": "code",
   "execution_count": null,
   "metadata": {
    "ExecuteTime": {
     "end_time": "2020-04-27T07:19:36.690033Z",
     "start_time": "2020-04-27T07:19:36.679323Z"
    }
   },
   "outputs": [],
   "source": []
  },
  {
   "cell_type": "markdown",
   "metadata": {},
   "source": [
    "* print X_train"
   ]
  },
  {
   "cell_type": "code",
   "execution_count": 10,
   "metadata": {
    "ExecuteTime": {
     "end_time": "2020-04-27T07:19:37.410555Z",
     "start_time": "2020-04-27T07:19:37.384346Z"
    }
   },
   "outputs": [
    {
     "data": {
      "text/plain": [
       "array([[ 0.61594129,  0.20814653],\n",
       "       [ 1.24800427,  1.1653144 ],\n",
       "       [-1.30852912, -0.41421579],\n",
       "       [-0.19586302, -0.49258206],\n",
       "       [-0.17445042, -0.1465972 ],\n",
       "       [ 0.77583338,  1.04840652],\n",
       "       [-1.31107997,  0.44853538]])"
      ]
     },
     "execution_count": 10,
     "metadata": {},
     "output_type": "execute_result"
    }
   ],
   "source": [
    "X_train"
   ]
  },
  {
   "cell_type": "markdown",
   "metadata": {},
   "source": [
    "* split the data again but now with the parameter shuffle = False"
   ]
  },
  {
   "cell_type": "code",
   "execution_count": 22,
   "metadata": {
    "ExecuteTime": {
     "end_time": "2020-04-27T07:19:38.392368Z",
     "start_time": "2020-04-27T07:19:38.387406Z"
    }
   },
   "outputs": [],
   "source": [
    "X_train, X_test, y_train, y_test = model_selection.train_test_split(X, y, train_size=0.7,test_size=0.3, random_state=42,shuffle=False)\n"
   ]
  },
  {
   "cell_type": "markdown",
   "metadata": {},
   "source": [
    "* print X_train"
   ]
  },
  {
   "cell_type": "code",
   "execution_count": 23,
   "metadata": {
    "ExecuteTime": {
     "end_time": "2020-04-27T07:19:56.965372Z",
     "start_time": "2020-04-27T07:19:56.954696Z"
    }
   },
   "outputs": [
    {
     "data": {
      "text/plain": [
       "array([[ 0.61594129,  0.20814653],\n",
       "       [-1.82225102,  3.21875021],\n",
       "       [-1.30852912, -0.41421579],\n",
       "       [ 0.77583338,  1.04840652],\n",
       "       [-0.17445042, -0.1465972 ],\n",
       "       [ 0.13338471,  1.62367421],\n",
       "       [-1.31107997,  0.44853538]])"
      ]
     },
     "execution_count": 23,
     "metadata": {},
     "output_type": "execute_result"
    }
   ],
   "source": [
    "X_train"
   ]
  },
  {
   "cell_type": "markdown",
   "metadata": {},
   "source": [
    "* print the shape of X_train and X_test"
   ]
  },
  {
   "cell_type": "code",
   "execution_count": 24,
   "metadata": {},
   "outputs": [
    {
     "data": {
      "text/plain": [
       "(7, 2)"
      ]
     },
     "execution_count": 24,
     "metadata": {},
     "output_type": "execute_result"
    }
   ],
   "source": [
    "X_train.shape"
   ]
  },
  {
   "cell_type": "code",
   "execution_count": 25,
   "metadata": {},
   "outputs": [
    {
     "data": {
      "text/plain": [
       "(3, 2)"
      ]
     },
     "execution_count": 25,
     "metadata": {},
     "output_type": "execute_result"
    }
   ],
   "source": [
    "X_test.shape"
   ]
  },
  {
   "cell_type": "markdown",
   "metadata": {},
   "source": [
    "_________________________________\n",
    "### K-fold split "
   ]
  },
  {
   "cell_type": "markdown",
   "metadata": {},
   "source": [
    "* import the **KFold** function from sklearn"
   ]
  },
  {
   "cell_type": "code",
   "execution_count": 26,
   "metadata": {
    "ExecuteTime": {
     "end_time": "2020-04-27T07:20:20.040524Z",
     "start_time": "2020-04-27T07:20:20.034774Z"
    }
   },
   "outputs": [],
   "source": [
    "from sklearn.model_selection import KFold\n"
   ]
  },
  {
   "cell_type": "markdown",
   "metadata": {},
   "source": [
    "* instantiate KFold with k=5"
   ]
  },
  {
   "cell_type": "code",
   "execution_count": 27,
   "metadata": {
    "ExecuteTime": {
     "end_time": "2020-04-27T07:21:02.886273Z",
     "start_time": "2020-04-27T07:21:02.882100Z"
    }
   },
   "outputs": [],
   "source": [
    "kf = KFold(n_splits=5)"
   ]
  },
  {
   "cell_type": "markdown",
   "metadata": {},
   "source": [
    "* iterate over train_index and test_index in kf.split(X) and print them"
   ]
  },
  {
   "cell_type": "code",
   "execution_count": 28,
   "metadata": {
    "ExecuteTime": {
     "end_time": "2020-04-27T07:21:30.570119Z",
     "start_time": "2020-04-27T07:21:30.560118Z"
    }
   },
   "outputs": [
    {
     "name": "stdout",
     "output_type": "stream",
     "text": [
      "X_test:  [[ 0.61594129  0.20814653]\n",
      " [-1.82225102  3.21875021]]\n",
      "X_test:  [[-1.30852912 -0.41421579]\n",
      " [ 0.77583338  1.04840652]]\n",
      "X_test:  [[-0.17445042 -0.1465972 ]\n",
      " [ 0.13338471  1.62367421]]\n",
      "X_test:  [[-1.31107997  0.44853538]\n",
      " [ 1.24800427  1.1653144 ]]\n",
      "X_test:  [[-0.54006541 -1.47674313]\n",
      " [-0.19586302 -0.49258206]]\n"
     ]
    }
   ],
   "source": [
    "for train_index, test_index in kf.split(X):\n",
    "    X_train, X_test = X[train_index], X[test_index]\n",
    "    y_train, y_test = y[train_index], y[test_index]\n",
    "    print(\"X_test: \", X_test)"
   ]
  },
  {
   "cell_type": "markdown",
   "metadata": {},
   "source": [
    "* instantiate KFold with k=5 and shuffle=True"
   ]
  },
  {
   "cell_type": "code",
   "execution_count": 29,
   "metadata": {
    "ExecuteTime": {
     "end_time": "2020-04-27T07:21:52.693825Z",
     "start_time": "2020-04-27T07:21:52.687089Z"
    }
   },
   "outputs": [],
   "source": [
    "kf = KFold(n_splits=5, shuffle=True)\n"
   ]
  },
  {
   "cell_type": "markdown",
   "metadata": {},
   "source": [
    "* iterate over train_index and test_index in kf.split(X) and print them"
   ]
  },
  {
   "cell_type": "code",
   "execution_count": 30,
   "metadata": {
    "ExecuteTime": {
     "end_time": "2020-02-25T10:19:37.219179Z",
     "start_time": "2020-02-25T10:19:37.210814Z"
    }
   },
   "outputs": [
    {
     "name": "stdout",
     "output_type": "stream",
     "text": [
      "X_test: [[ 0.61594129  0.20814653]\n",
      " [-1.30852912 -0.41421579]]\n",
      "X_test: [[ 0.77583338  1.04840652]\n",
      " [-0.19586302 -0.49258206]]\n",
      "X_test: [[-1.82225102  3.21875021]\n",
      " [-1.31107997  0.44853538]]\n",
      "X_test: [[-0.17445042 -0.1465972 ]\n",
      " [ 1.24800427  1.1653144 ]]\n",
      "X_test: [[ 0.13338471  1.62367421]\n",
      " [-0.54006541 -1.47674313]]\n"
     ]
    }
   ],
   "source": [
    "for train_index, test_index in kf.split(X):\n",
    "    X_train, X_test = X[train_index], X[test_index]\n",
    "    y_train, y_test = y[train_index], y[test_index]\n",
    "    #print(\"X_train: \", X_train)\n",
    "    print('X_test:', X_test)"
   ]
  },
  {
   "cell_type": "code",
   "execution_count": null,
   "metadata": {},
   "outputs": [],
   "source": []
  },
  {
   "cell_type": "markdown",
   "metadata": {
    "ExecuteTime": {
     "end_time": "2020-02-25T10:20:50.997776Z",
     "start_time": "2020-02-25T10:20:50.991967Z"
    }
   },
   "source": [
    "_______________________________________\n",
    "### Leave-One-Out split\n",
    "This is a similar technique to the Leave-p-out in the previous readings, with p=1. Each observation is used as test set separately.\n",
    "- This is a popular method for tiny datasets.\n",
    "- It takes a lot of time with bigger datasets and can lead to overfitting on a final model."
   ]
  },
  {
   "cell_type": "code",
   "execution_count": null,
   "metadata": {},
   "outputs": [],
   "source": []
  },
  {
   "cell_type": "markdown",
   "metadata": {},
   "source": [
    "* import the **LeaveOneOut** function from sklearn"
   ]
  },
  {
   "cell_type": "code",
   "execution_count": 31,
   "metadata": {
    "ExecuteTime": {
     "end_time": "2020-04-27T07:22:57.562338Z",
     "start_time": "2020-04-27T07:22:57.557038Z"
    }
   },
   "outputs": [],
   "source": [
    "from sklearn.model_selection import LeaveOneOut\n"
   ]
  },
  {
   "cell_type": "markdown",
   "metadata": {},
   "source": [
    "* instantiate LeaveOneOut"
   ]
  },
  {
   "cell_type": "code",
   "execution_count": 32,
   "metadata": {
    "ExecuteTime": {
     "end_time": "2020-04-27T07:22:58.073776Z",
     "start_time": "2020-04-27T07:22:58.069381Z"
    }
   },
   "outputs": [],
   "source": [
    "loo = LeaveOneOut()"
   ]
  },
  {
   "cell_type": "markdown",
   "metadata": {},
   "source": [
    "* iterate over train_index and test_index in loo.split(X) and print them"
   ]
  },
  {
   "cell_type": "code",
   "execution_count": 33,
   "metadata": {
    "ExecuteTime": {
     "end_time": "2020-04-27T07:23:15.893291Z",
     "start_time": "2020-04-27T07:23:15.882373Z"
    }
   },
   "outputs": [
    {
     "name": "stdout",
     "output_type": "stream",
     "text": [
      "TRAIN: [1 2 3 4 5 6 7 8 9] TEST: [0]\n",
      "[[-1.82225102  3.21875021]\n",
      " [-1.30852912 -0.41421579]\n",
      " [ 0.77583338  1.04840652]\n",
      " [-0.17445042 -0.1465972 ]\n",
      " [ 0.13338471  1.62367421]\n",
      " [-1.31107997  0.44853538]\n",
      " [ 1.24800427  1.1653144 ]\n",
      " [-0.54006541 -1.47674313]\n",
      " [-0.19586302 -0.49258206]] [[0.61594129 0.20814653]] [ 1.09754766  0.02728743 -0.38286957 -2.19084662 -0.22063    -1.51669178\n",
      " -1.77152559  1.29190778 -0.38053274] [-0.75878753]\n",
      "TRAIN: [0 2 3 4 5 6 7 8 9] TEST: [1]\n",
      "[[ 0.61594129  0.20814653]\n",
      " [-1.30852912 -0.41421579]\n",
      " [ 0.77583338  1.04840652]\n",
      " [-0.17445042 -0.1465972 ]\n",
      " [ 0.13338471  1.62367421]\n",
      " [-1.31107997  0.44853538]\n",
      " [ 1.24800427  1.1653144 ]\n",
      " [-0.54006541 -1.47674313]\n",
      " [-0.19586302 -0.49258206]] [[-1.82225102  3.21875021]] [-0.75878753  0.02728743 -0.38286957 -2.19084662 -0.22063    -1.51669178\n",
      " -1.77152559  1.29190778 -0.38053274] [1.09754766]\n",
      "TRAIN: [0 1 3 4 5 6 7 8 9] TEST: [2]\n",
      "[[ 0.61594129  0.20814653]\n",
      " [-1.82225102  3.21875021]\n",
      " [ 0.77583338  1.04840652]\n",
      " [-0.17445042 -0.1465972 ]\n",
      " [ 0.13338471  1.62367421]\n",
      " [-1.31107997  0.44853538]\n",
      " [ 1.24800427  1.1653144 ]\n",
      " [-0.54006541 -1.47674313]\n",
      " [-0.19586302 -0.49258206]] [[-1.30852912 -0.41421579]] [-0.75878753  1.09754766 -0.38286957 -2.19084662 -0.22063    -1.51669178\n",
      " -1.77152559  1.29190778 -0.38053274] [0.02728743]\n",
      "TRAIN: [0 1 2 4 5 6 7 8 9] TEST: [3]\n",
      "[[ 0.61594129  0.20814653]\n",
      " [-1.82225102  3.21875021]\n",
      " [-1.30852912 -0.41421579]\n",
      " [-0.17445042 -0.1465972 ]\n",
      " [ 0.13338471  1.62367421]\n",
      " [-1.31107997  0.44853538]\n",
      " [ 1.24800427  1.1653144 ]\n",
      " [-0.54006541 -1.47674313]\n",
      " [-0.19586302 -0.49258206]] [[0.77583338 1.04840652]] [-0.75878753  1.09754766  0.02728743 -2.19084662 -0.22063    -1.51669178\n",
      " -1.77152559  1.29190778 -0.38053274] [-0.38286957]\n",
      "TRAIN: [0 1 2 3 5 6 7 8 9] TEST: [4]\n",
      "[[ 0.61594129  0.20814653]\n",
      " [-1.82225102  3.21875021]\n",
      " [-1.30852912 -0.41421579]\n",
      " [ 0.77583338  1.04840652]\n",
      " [ 0.13338471  1.62367421]\n",
      " [-1.31107997  0.44853538]\n",
      " [ 1.24800427  1.1653144 ]\n",
      " [-0.54006541 -1.47674313]\n",
      " [-0.19586302 -0.49258206]] [[-0.17445042 -0.1465972 ]] [-0.75878753  1.09754766  0.02728743 -0.38286957 -0.22063    -1.51669178\n",
      " -1.77152559  1.29190778 -0.38053274] [-2.19084662]\n",
      "TRAIN: [0 1 2 3 4 6 7 8 9] TEST: [5]\n",
      "[[ 0.61594129  0.20814653]\n",
      " [-1.82225102  3.21875021]\n",
      " [-1.30852912 -0.41421579]\n",
      " [ 0.77583338  1.04840652]\n",
      " [-0.17445042 -0.1465972 ]\n",
      " [-1.31107997  0.44853538]\n",
      " [ 1.24800427  1.1653144 ]\n",
      " [-0.54006541 -1.47674313]\n",
      " [-0.19586302 -0.49258206]] [[0.13338471 1.62367421]] [-0.75878753  1.09754766  0.02728743 -0.38286957 -2.19084662 -1.51669178\n",
      " -1.77152559  1.29190778 -0.38053274] [-0.22063]\n",
      "TRAIN: [0 1 2 3 4 5 7 8 9] TEST: [6]\n",
      "[[ 0.61594129  0.20814653]\n",
      " [-1.82225102  3.21875021]\n",
      " [-1.30852912 -0.41421579]\n",
      " [ 0.77583338  1.04840652]\n",
      " [-0.17445042 -0.1465972 ]\n",
      " [ 0.13338471  1.62367421]\n",
      " [ 1.24800427  1.1653144 ]\n",
      " [-0.54006541 -1.47674313]\n",
      " [-0.19586302 -0.49258206]] [[-1.31107997  0.44853538]] [-0.75878753  1.09754766  0.02728743 -0.38286957 -2.19084662 -0.22063\n",
      " -1.77152559  1.29190778 -0.38053274] [-1.51669178]\n",
      "TRAIN: [0 1 2 3 4 5 6 8 9] TEST: [7]\n",
      "[[ 0.61594129  0.20814653]\n",
      " [-1.82225102  3.21875021]\n",
      " [-1.30852912 -0.41421579]\n",
      " [ 0.77583338  1.04840652]\n",
      " [-0.17445042 -0.1465972 ]\n",
      " [ 0.13338471  1.62367421]\n",
      " [-1.31107997  0.44853538]\n",
      " [-0.54006541 -1.47674313]\n",
      " [-0.19586302 -0.49258206]] [[1.24800427 1.1653144 ]] [-0.75878753  1.09754766  0.02728743 -0.38286957 -2.19084662 -0.22063\n",
      " -1.51669178  1.29190778 -0.38053274] [-1.77152559]\n",
      "TRAIN: [0 1 2 3 4 5 6 7 9] TEST: [8]\n",
      "[[ 0.61594129  0.20814653]\n",
      " [-1.82225102  3.21875021]\n",
      " [-1.30852912 -0.41421579]\n",
      " [ 0.77583338  1.04840652]\n",
      " [-0.17445042 -0.1465972 ]\n",
      " [ 0.13338471  1.62367421]\n",
      " [-1.31107997  0.44853538]\n",
      " [ 1.24800427  1.1653144 ]\n",
      " [-0.19586302 -0.49258206]] [[-0.54006541 -1.47674313]] [-0.75878753  1.09754766  0.02728743 -0.38286957 -2.19084662 -0.22063\n",
      " -1.51669178 -1.77152559 -0.38053274] [1.29190778]\n",
      "TRAIN: [0 1 2 3 4 5 6 7 8] TEST: [9]\n",
      "[[ 0.61594129  0.20814653]\n",
      " [-1.82225102  3.21875021]\n",
      " [-1.30852912 -0.41421579]\n",
      " [ 0.77583338  1.04840652]\n",
      " [-0.17445042 -0.1465972 ]\n",
      " [ 0.13338471  1.62367421]\n",
      " [-1.31107997  0.44853538]\n",
      " [ 1.24800427  1.1653144 ]\n",
      " [-0.54006541 -1.47674313]] [[-0.19586302 -0.49258206]] [-0.75878753  1.09754766  0.02728743 -0.38286957 -2.19084662 -0.22063\n",
      " -1.51669178 -1.77152559  1.29190778] [-0.38053274]\n"
     ]
    }
   ],
   "source": [
    "for train_index, test_index in loo.split(X):\n",
    "    print(\"TRAIN:\", train_index, \"TEST:\", test_index)\n",
    "    X_train, X_test = X[train_index], X[test_index]\n",
    "    y_train, y_test = y[train_index], y[test_index]\n",
    "    print(X_train, X_test, y_train, y_test)"
   ]
  },
  {
   "cell_type": "code",
   "execution_count": null,
   "metadata": {},
   "outputs": [],
   "source": []
  },
  {
   "cell_type": "markdown",
   "metadata": {
    "ExecuteTime": {
     "end_time": "2020-04-27T07:23:32.091854Z",
     "start_time": "2020-04-27T07:23:32.084557Z"
    }
   },
   "source": [
    "* print the number of splits"
   ]
  },
  {
   "cell_type": "code",
   "execution_count": 34,
   "metadata": {
    "ExecuteTime": {
     "end_time": "2020-04-27T07:23:44.088113Z",
     "start_time": "2020-04-27T07:23:44.079901Z"
    }
   },
   "outputs": [
    {
     "data": {
      "text/plain": [
       "10"
      ]
     },
     "execution_count": 34,
     "metadata": {},
     "output_type": "execute_result"
    }
   ],
   "source": [
    "loo.get_n_splits(X)"
   ]
  },
  {
   "cell_type": "code",
   "execution_count": null,
   "metadata": {},
   "outputs": [],
   "source": []
  }
 ],
 "metadata": {
  "kernelspec": {
   "display_name": "Python 3 (ipykernel)",
   "language": "python",
   "name": "python3"
  },
  "language_info": {
   "codemirror_mode": {
    "name": "ipython",
    "version": 3
   },
   "file_extension": ".py",
   "mimetype": "text/x-python",
   "name": "python",
   "nbconvert_exporter": "python",
   "pygments_lexer": "ipython3",
   "version": "3.9.7"
  },
  "toc": {
   "base_numbering": 1,
   "nav_menu": {},
   "number_sections": true,
   "sideBar": true,
   "skip_h1_title": false,
   "title_cell": "Table of Contents",
   "title_sidebar": "Contents",
   "toc_cell": false,
   "toc_position": {},
   "toc_section_display": true,
   "toc_window_display": false
  },
  "varInspector": {
   "cols": {
    "lenName": 16,
    "lenType": 16,
    "lenVar": 40
   },
   "kernels_config": {
    "python": {
     "delete_cmd_postfix": "",
     "delete_cmd_prefix": "del ",
     "library": "var_list.py",
     "varRefreshCmd": "print(var_dic_list())"
    },
    "r": {
     "delete_cmd_postfix": ") ",
     "delete_cmd_prefix": "rm(",
     "library": "var_list.r",
     "varRefreshCmd": "cat(var_dic_list()) "
    }
   },
   "types_to_exclude": [
    "module",
    "function",
    "builtin_function_or_method",
    "instance",
    "_Feature"
   ],
   "window_display": false
  }
 },
 "nbformat": 4,
 "nbformat_minor": 4
}
